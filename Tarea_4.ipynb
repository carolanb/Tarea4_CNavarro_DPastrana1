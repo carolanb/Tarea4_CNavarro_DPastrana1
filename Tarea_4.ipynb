{
 "cells": [
  {
   "cell_type": "markdown",
   "metadata": {},
   "source": [
    "<img style=\"float: left; margin: 30px 15px 15px 15px;\" src=\"https://pngimage.net/wp-content/uploads/2018/06/logo-iteso-png-5.png\" width=\"300\" height=\"500\" /> \n",
    "    \n",
    "    \n",
    "### <font color='navy'> Simulación de procesos financieros. \n",
    "\n",
    "**Nombres:** Carola Navarro Badía y Daniel Pastrana Vargas\n",
    "\n",
    "**Fecha:** 18 de septiembre del 2023.\n",
    "\n",
    "**Expediente** : if722049 y ??.\n",
    "**Profesor:** Oscar David Jaramillo Zuluaga.\n",
    "    \n",
    "**Link Github**: Link con el enlace del repositorio del creador del proyecto\n",
    "\n",
    "# Tarea 4: Clase 7"
   ]
  },
  {
   "cell_type": "code",
   "execution_count": 1,
   "metadata": {},
   "outputs": [],
   "source": [
    "# Importación de paquetes\n",
    "import numpy as np\n",
    "import matplotlib.pyplot as plt\n",
    "import pandas as pd\n",
    "import os\n",
    "import scipy.stats as st"
   ]
  },
  {
   "cell_type": "markdown",
   "metadata": {},
   "source": [
    "### Ejercicio 1"
   ]
  },
  {
   "cell_type": "markdown",
   "metadata": {},
   "source": [
    "Como ejemplo simple de una simulación de Monte Carlo, considere calcular la probabilidad de una suma particular del lanzamiento de tres dados (cada dado tiene valores del uno al seis). Además cada dado tiene las siguientes carácterísticas: el primer dado no está cargado (distribución uniforme todos son equiprobables); el segundo y tercer dado están cargados basados en una distribución binomial con parámetros (`n=5, p=0.5` y `n=5, p=0.2`). Calcule la probabilidad de que la suma resultante sea 7, 14 o 18. "
   ]
  },
  {
   "cell_type": "code",
   "execution_count": 9,
   "metadata": {},
   "outputs": [
    {
     "name": "stdout",
     "output_type": "stream",
     "text": [
      "Probabilidad de obtener una suma de 7: 0.0000\n",
      "Probabilidad de obtener una suma de 14: 0.0000\n",
      "Probabilidad de obtener una suma de 18: 0.0001\n"
     ]
    }
   ],
   "source": [
    "#Código del estudiante 1\n",
    "import random\n",
    "\n",
    "def lanzar_dado_cargado(n, p):\n",
    "    return sum(random.choices(range(1, 7), k=n, weights=[p/6] * 6))\n",
    "\n",
    "def simulacion_monte_carlo(iteraciones):\n",
    "    resultados = [lanzar_dado_cargado(1, 1/6) + lanzar_dado_cargado(5, 0.5) + lanzar_dado_cargado(5, 0.2) for _ in range(iteraciones)]\n",
    "    probabilidades = {suma: resultados.count(suma) / iteraciones for suma in [7, 14, 18]}\n",
    "    return probabilidades\n",
    "\n",
    "iteraciones = 100000  # Número de iteraciones de la simulación\n",
    "probabilidades = simulacion_monte_carlo(iteraciones)\n",
    "\n",
    "print(f\"Probabilidad de obtener una suma de 7: {probabilidades.get(7, 0):.4f}\")\n",
    "print(f\"Probabilidad de obtener una suma de 14: {probabilidades.get(14, 0):.4f}\")\n",
    "print(f\"Probabilidad de obtener una suma de 18: {probabilidades.get(18, 0):.4f}\")"
   ]
  },
  {
   "cell_type": "code",
   "execution_count": 6,
   "metadata": {},
   "outputs": [],
   "source": [
    "#Código del estudiante 2"
   ]
  },
  {
   "cell_type": "markdown",
   "metadata": {},
   "source": [
    "### Ejercicio 2"
   ]
  },
  {
   "cell_type": "markdown",
   "metadata": {},
   "source": [
    "Premisas para la simulación:\n",
    "- Negocio de alimentos que vende bebidas y alimentos.\n",
    "- Negocio dentro del ITESO.\n",
    "- Negocio en cafetería central.\n",
    "- Tipo de clientes (hombres y mujeres).\n",
    "- Rentabilidad del 60%.\n",
    "\n",
    "## Objetivo\n",
    "Realizar una simulación estimado el tiempo medio que se tardaran los clientes en ser atendidos entre el horario de 6:30 a 1 pm. Además saber el consumo. \n",
    "**Analizar supuestos y limitantes**"
   ]
  },
  {
   "cell_type": "markdown",
   "metadata": {},
   "source": [
    "## Supuestos en simulación\n",
    "Clasificación de clientes: \n",
    "- Mujer  = 1 $\\longrightarrow$ aleatorio < 0.5\n",
    "- Hombre = 0 $\\longrightarrow$ aleatorio $\\geq$ 0.5.\n",
    "\n",
    "Condiciones iniciales:\n",
    "- Todas las distrubuciones de probabilidad se supondrán uniformes.\n",
    "- Tiempo de simulación: 6:30 am - 1:30pm $\\longrightarrow$ T = 7 horas = 25200 seg.\n",
    "- Tiempo de llegada hasta ser atendido: Min=5seg, Max=30seg.\n",
    "- Tiempo que tardan los clientes en ser atendidos:\n",
    "    - Mujer: Min = 1 min= 60seg, Max = 5 min = 300 seg\n",
    "    - Hombre: Min = 40 seg, Max = 2 min= 120 seg\n",
    "- Consumo según el tipo de cliente:\n",
    "    - Mujer: Min = 30 pesos, Max = 100 pesos\n",
    "    - Hombre: Min = 20 pesos, Max = 80 pesos\n",
    "\n",
    "Responder las siguientes preguntas basados en los datos del problema:\n",
    "1. ¿Cuáles fueron los gastos de los hombres y las mujeres en 5 días de trabajo?.\n",
    "2. ¿Cuál fue el consumo promedio de los hombres y mujeres?\n",
    "3. ¿Cuál fue el número de personas atendidas por día?\n",
    "4. ¿Cuál fue el tiempo de atención promedio?\n",
    "5. ¿Cuánto fue la ganancia promedio de la cafetería en 5 días de trabajo y su respectiva rentabilidad?"
   ]
  },
  {
   "cell_type": "code",
   "execution_count": 11,
   "metadata": {},
   "outputs": [],
   "source": [
    "################## Datos del problema\n",
    "d = .5\n",
    "T =25200\n",
    "T_at_min = 5; T_at_max = 30\n",
    "T_mujer_min =60; T_mujer_max = 300\n",
    "T_hombre_min = 40; T_hombre_max = 120\n",
    "C_mujer_min = 30; C_mujer_max = 100\n",
    "C_hombre_min = 20; C_hombre_max = 80"
   ]
  },
  {
   "cell_type": "code",
   "execution_count": 12,
   "metadata": {},
   "outputs": [
    {
     "name": "stdout",
     "output_type": "stream",
     "text": [
      "Resultados después de 5 días de trabajo:\n",
      "Gasto promedio de hombres: 50.06 pesos\n",
      "Gasto promedio de mujeres: 65.40 pesos\n",
      "Consumo promedio de hombres: 50.06 pesos\n",
      "Consumo promedio de mujeres: 65.40 pesos\n",
      "Número de personas atendidas por día: 171.80\n",
      "Tiempo de atención promedio: 129.49 segundos\n",
      "Ganancia promedio por día: 9925.73 pesos\n",
      "Rentabilidad: 8596.64%\n"
     ]
    }
   ],
   "source": [
    "#Código del estudiante 1\n",
    "import random\n",
    "\n",
    "# Inicialización de variables\n",
    "gastos_hombres = []\n",
    "gastos_mujeres = []\n",
    "numero_personas_atendidas = 0\n",
    "tiempo_total_atencion = 0\n",
    "ganancia_total = 0\n",
    "\n",
    "# Simulación de 5 días de trabajo\n",
    "for _ in range(5):\n",
    "    tiempo_actual = 0\n",
    "    while tiempo_actual < T:\n",
    "        # Simular llegada de cliente\n",
    "        tiempo_llegada = random.randint(T_at_min, T_at_max)\n",
    "        tiempo_actual += tiempo_llegada\n",
    "        \n",
    "        # Determinar género del cliente\n",
    "        genero = 1 if random.random() < d else 0\n",
    "        \n",
    "        # Simular tiempo de atención\n",
    "        if genero == 1:\n",
    "            tiempo_atencion = random.randint(T_mujer_min, T_mujer_max)\n",
    "        else:\n",
    "            tiempo_atencion = random.randint(T_hombre_min, T_hombre_max)\n",
    "        \n",
    "        tiempo_actual += tiempo_atencion\n",
    "        \n",
    "        # Registrar consumo y gasto del cliente\n",
    "        if genero == 1:\n",
    "            consumo = random.uniform(C_mujer_min, C_mujer_max)\n",
    "            gastos_mujeres.append(consumo)\n",
    "        else:\n",
    "            consumo = random.uniform(C_hombre_min, C_hombre_max)\n",
    "            gastos_hombres.append(consumo)\n",
    "        \n",
    "        ganancia_total += consumo\n",
    "        numero_personas_atendidas += 1\n",
    "        tiempo_total_atencion += tiempo_atencion\n",
    "\n",
    "# Calcular estadísticas\n",
    "gasto_promedio_hombres = sum(gastos_hombres) / len(gastos_hombres)\n",
    "gasto_promedio_mujeres = sum(gastos_mujeres) / len(gastos_mujeres)\n",
    "consumo_promedio_hombres = gasto_promedio_hombres\n",
    "consumo_promedio_mujeres = gasto_promedio_mujeres\n",
    "personas_atendidas_por_dia = numero_personas_atendidas / 5\n",
    "tiempo_promedio_atencion = tiempo_total_atencion / numero_personas_atendidas\n",
    "ganancia_promedio = ganancia_total / 5\n",
    "rentabilidad = (ganancia_promedio / (gasto_promedio_hombres + gasto_promedio_mujeres)) * 100\n",
    "\n",
    "# Imprimir resultados\n",
    "print(\"Resultados después de 5 días de trabajo:\")\n",
    "print(f\"Gasto promedio de hombres: {gasto_promedio_hombres:.2f} pesos\")\n",
    "print(f\"Gasto promedio de mujeres: {gasto_promedio_mujeres:.2f} pesos\")\n",
    "print(f\"Consumo promedio de hombres: {consumo_promedio_hombres:.2f} pesos\")\n",
    "print(f\"Consumo promedio de mujeres: {consumo_promedio_mujeres:.2f} pesos\")\n",
    "print(f\"Número de personas atendidas por día: {personas_atendidas_por_dia:.2f}\")\n",
    "print(f\"Tiempo de atención promedio: {tiempo_promedio_atencion:.2f} segundos\")\n",
    "print(f\"Ganancia promedio por día: {ganancia_promedio:.2f} pesos\")\n",
    "print(f\"Rentabilidad: {rentabilidad:.2f}%\")\n"
   ]
  },
  {
   "cell_type": "code",
   "execution_count": null,
   "metadata": {},
   "outputs": [],
   "source": [
    "#Código del estudiante 2"
   ]
  }
 ],
 "metadata": {
  "kernelspec": {
   "display_name": "Python 3",
   "language": "python",
   "name": "python3"
  },
  "language_info": {
   "codemirror_mode": {
    "name": "ipython",
    "version": 3
   },
   "file_extension": ".py",
   "mimetype": "text/x-python",
   "name": "python",
   "nbconvert_exporter": "python",
   "pygments_lexer": "ipython3",
   "version": "3.7.7"
  }
 },
 "nbformat": 4,
 "nbformat_minor": 2
}
